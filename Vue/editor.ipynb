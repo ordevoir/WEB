{
 "cells": [
  {
   "cell_type": "markdown",
   "metadata": {},
   "source": [
    "## Скалярное произведение векторов"
   ]
  },
  {
   "cell_type": "markdown",
   "metadata": {},
   "source": [
    "Напишите функцию, которая на вход принимает два вектора (числовые списки равной длины), и возвращающую число, которое представляет собой результат скалярного произведения векторов."
   ]
  },
  {
   "cell_type": "code",
   "execution_count": null,
   "metadata": {},
   "outputs": [],
   "source": []
  },
  {
   "cell_type": "markdown",
   "metadata": {},
   "source": [
    "Векторы для проверки:"
   ]
  },
  {
   "cell_type": "code",
   "execution_count": null,
   "metadata": {},
   "outputs": [],
   "source": [
    "from random import randint\n",
    "\n",
    "n = 10\n",
    "a = [randint(0, n) for i in range(n)]   # вектор a\n",
    "b = [randint(0, n) for i in range(n)]   # вектор b\n",
    "a, b"
   ]
  },
  {
   "cell_type": "markdown",
   "metadata": {},
   "source": [
    "## Матричное произведение"
   ]
  },
  {
   "cell_type": "markdown",
   "metadata": {},
   "source": [
    "Напишите функцию, которая на вход принимает две матрицы (числовые списки списков), и возвращает результат их матричного произведения (тоже в виде списка списков)."
   ]
  },
  {
   "cell_type": "code",
   "execution_count": null,
   "metadata": {},
   "outputs": [],
   "source": []
  },
  {
   "cell_type": "markdown",
   "metadata": {},
   "source": [
    "Матрицы для проверки:"
   ]
  },
  {
   "cell_type": "code",
   "execution_count": null,
   "metadata": {},
   "outputs": [],
   "source": [
    "n, p, m = 3, 5, 6\n",
    "\n",
    "A = [[randint(0, n*p*m) for i in range(p)] for i in  range(n)]  # матрица n x p\n",
    "B = [[randint(0, n*p*m) for i in range(m)] for i in  range(p)]  # матрица p x m\n",
    "\n",
    "def print_matrix(M):\n",
    "    for i in range(len(M)):\n",
    "        print(M[i])\n",
    "\n",
    "print_matrix(A)    \n",
    "print()\n",
    "print_matrix(B)"
   ]
  }
 ],
 "metadata": {
  "kernelspec": {
   "display_name": "tf",
   "language": "python",
   "name": "python3"
  },
  "language_info": {
   "codemirror_mode": {
    "name": "ipython",
    "version": 3
   },
   "file_extension": ".py",
   "mimetype": "text/x-python",
   "name": "python",
   "nbconvert_exporter": "python",
   "pygments_lexer": "ipython3",
   "version": "3.10.10"
  },
  "orig_nbformat": 4
 },
 "nbformat": 4,
 "nbformat_minor": 2
}
